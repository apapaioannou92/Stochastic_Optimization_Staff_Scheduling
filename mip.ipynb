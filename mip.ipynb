{
 "cells": [
  {
   "cell_type": "markdown",
   "metadata": {},
   "source": [
    "# Staff Scheduling in Retail"
   ]
  },
  {
   "cell_type": "code",
   "execution_count": 1,
   "metadata": {},
   "outputs": [],
   "source": [
    "from gurobipy import *\n",
    "import numpy as np\n",
    "import matplotlib.pyplot as plt\n",
    "import scipy.stats as scp"
   ]
  },
  {
   "cell_type": "code",
   "execution_count": 2,
   "metadata": {},
   "outputs": [],
   "source": [
    "#PARAMETERS\n",
    "OT = 10        # Opening time of store\n",
    "CT = 22        # Closing time of store\n",
    "pfrate = 0.3   # Allowed ratio of part-time to total staff (part-time/(part-time + full-time))\n",
    "FG = 40        # Allowable gross work hours per week for full-time staff\n",
    "FD = 5         # Allowable workdays per week for full-time staff\n",
    "PG = 30        # Allowable gross work hours per week for part-time staff\n",
    "PD = 4         # Allowable workdays per week for part-time staff\n",
    "CostF = 15     # Hourly cost of a full-time staff member to the store\n",
    "CostP = 9      # Hourly of a part-time staff member to the store\n",
    "\n",
    "#The following matrix describes the structure of shifts. Each row represents a shift.\n",
    "#Each column represents an hour in the day, from 10 am to 10 pm.\n",
    "#There is a 1 if the employee work at that time, and a 0 otherwise. \n",
    "schedule_matrix = np.array(\n",
    "                  [[1,1,1,0,1,1,1,0,0,0,0,0], # 10-17, len = 7, b =13\n",
    "                   [1,1,1,1,0,1,1,1,1,0,0,0], # 10-19, len = 9, b = 14\n",
    "                   [1,1,1,1,1,0,1,1,1,0,0,0], # 10-19, len = 9, b = 15\n",
    "                   [1,1,1,1,0,1,1,0,1,0,0,0], # 10-19, len = 9, b = 17\n",
    "                   [1,1,1,1,0,1,1,0,1,1,1,0], # 10-21, len = 11, b = 14\n",
    "                   [1,1,1,1,1,0,1,1,1,1,1,0], # 10-21, len = 11, b = 15\n",
    "                   [1,1,1,1,0,1,1,1,1,1,1,1], # 10-22, len = 12, b = 14\n",
    "                   [1,1,1,1,1,0,1,1,1,1,1,1], # 10-22, len = 12, b = 15\n",
    "                   [1,1,1,1,1,1,0,1,1,1,1,1], # 10-22, len = 12, b = 16\n",
    "                   [0,1,1,1,0,1,1,1,1,0,0,0], # 11-19, len = 8, b = 14\n",
    "                   [0,1,1,1,1,0,1,1,1,0,0,0], # 11-19, len = 8, b = 15\n",
    "                   [0,1,1,1,1,0,1,1,1,1,0,0], # 11-20, len = 9, b = 15\n",
    "                   [0,1,1,1,1,0,1,1,1,1,1,1], # 11-22, len = 11, b = 15\n",
    "                   [0,1,1,1,1,1,0,1,1,1,1,1], # 11-22, len = 11, b = 16\n",
    "                   [0,1,1,1,1,1,1,0,1,1,1,1], # 11-22, len = 11, b = 17\n",
    "                   [0,0,1,1,1,1,0,0,0,0,0,0], # 12-16, len = 4, b = 16\n",
    "                   [0,0,1,1,1,1,0,1,1,0,0,0], # 12-19, len = 7, b = 16\n",
    "                   [0,0,1,1,1,1,0,1,1,1,1,1], # 12-22, len = 10, b = 16\n",
    "                   [0,0,1,1,1,1,1,0,1,1,1,1], # 12-22, len = 10, b = 17\n",
    "                   [0,0,0,1,1,1,1,0,0,0,0,0], # 13-17, len = 4, b = 17\n",
    "                   [0,0,0,1,1,1,1,0,1,1,1,1], # 13-22, len = 9, b = 17\n",
    "                   [0,0,0,0,1,1,1,1,0,0,0,0], # 14-18, len = 4, b = 18\n",
    "                   [0,0,0,0,1,1,1,1,0,1,1,0], # 14-21, len = 7, b = 18\n",
    "                   [0,0,0,0,1,1,1,1,1,0,1,1], # 14-22, len = 8, b = 18\n",
    "                   [0,0,0,0,0,1,1,1,1,0,0,0], # 15-19, len = 4, b = 19\n",
    "                   [0,0,0,0,0,1,1,1,1,0,1,1], # 15-22, len = 7, b = 19\n",
    "                   [0,0,0,0,0,0,1,1,1,1,0,0], # 16-20, len = 4, b = 20\n",
    "                   [0,0,0,0,0,0,0,0,1,1,1,1]]) # 18-22, len = 4, b = 22\n",
    "\n",
    "#Duration of each shift\n",
    "duration_shift = [7, 9, 9, 9, 11, 11, 12, 12, 12, 8, 8, 9, 11, 11, 11, 4, 7, 10, 10, 4, 9, 4, 7, 8, 4, 7, 4, 4]\n",
    "num_shifts = len(schedule_matrix)"
   ]
  },
  {
   "cell_type": "markdown",
   "metadata": {},
   "source": [
    "## Creating the model"
   ]
  },
  {
   "cell_type": "code",
   "execution_count": 3,
   "metadata": {},
   "outputs": [],
   "source": [
    "def solve_model(hreq, num_full, num_part): \n",
    "    model = Model(\"RetailScheduling\")\n",
    "    model.Params.timeLimit = 300.0\n",
    "    \n",
    "    #VARIABLES\n",
    "    assign_full = model.addVars(ifull, days, shifts, vtype = GRB.BINARY, name = \"assign_full\") \n",
    "                    #It's 1 if we assign full-time employee i to shift j on day k, 0 otherwise\n",
    "    assign_part = model.addVars(ipart, days, shifts, vtype = GRB.BINARY, name = \"assign_part\")\n",
    "                    #It's 1 if we assign part-time employee i to shift j on day k, 0 otherwise\n",
    "    full = model.addVars(ifull, vtype = GRB.BINARY, name = \"full\") #It's 1 if we hire employee i, 0 otherwise\n",
    "    part = model.addVars(ipart, vtype = GRB.BINARY, name = \"part\") #It's 1 if we hire employee i, 0 otherwise\n",
    "    \n",
    "    #OBJECTIVE FUNCTION: Minimize total weekly staffing cost\n",
    "    model.setObjective(assign_full.prod(dict_cost_full) + assign_part.prod(dict_cost_part), GRB.MINIMIZE) \n",
    "\n",
    "    #CONSTRAINTS\n",
    "    #If the employee is not hired, we cannot assign any shift to him.\n",
    "    model.addConstrs((assign_full.sum(employee, '*', '*') <= 500*full[employee] \n",
    "                      for employee in ifull), 'num_full')\n",
    "    model.addConstrs((assign_part.sum(employee, '*', '*') <= 500*part[employee] \n",
    "                      for employee in ipart), 'num_part')\n",
    "    \n",
    "    #The proportion of part-time employees cannot be higher than pfrate.\n",
    "    model.addConstr(part.sum()*(1 - pfrate) <= pfrate*full.sum(), 'pf-ratio')\n",
    "    \n",
    "    #No employee can work more than the maximum allowable days per week.\n",
    "    model.addConstrs((assign_full.sum(employee, '*', '*') <= FD*full[employee]\n",
    "                      for employee in ifull), 'wdays_full')\n",
    "    model.addConstrs((assign_part.sum(employee, '*', '*') <= PD*part[employee]\n",
    "                      for employee in ipart), 'wdays_part')\n",
    "    \n",
    "    #No employee can work more than the maximum number of hours allowed in a week.\n",
    "    model.addConstrs((assign_full.prod(dict_duration, employee, '*', '*') <= FG*full[employee]\n",
    "                      for employee in ifull), 'max_whours_full')\n",
    "    model.addConstrs((assign_full.prod(dict_duration, employee, '*', '*') >= PG*full[employee]\n",
    "                      for employee in ifull), 'min_whours_full')\n",
    "    model.addConstrs((assign_part.prod(dict_duration, employee, '*', '*') <= PG*part[employee]\n",
    "                      for employee in ipart), 'max_whours_part')\n",
    "    \n",
    "    #Any employee can be assigned to only one shift in any given day.\n",
    "    model.addConstrs((assign_full.sum(employee, day, '*') <= 1*full[employee] \n",
    "                      for employee in ifull for day in days ),'one_shift_day_full')\n",
    "    model.addConstrs((assign_part.sum(employee, day, '*') <= 1*part[employee]\n",
    "                      for employee in ipart for day in days ),'one_shift_day_part')\n",
    "    \n",
    "    #The staff available in a given day and hour has to meet the demand\n",
    "    model.addConstrs((assign_full.sum('*', day, np.where(schedule_matrix[:,hour - 10])[0] + 1)\n",
    "                      + assign_part.sum('*', day, np.where(schedule_matrix[:,hour - 10])[0] + 1) >= hreq[(day,hour)] \n",
    "                     for day in days for hour in range(OT, CT)),'meet_demand')\n",
    "    \n",
    "    #Breaks symmetry between the variables\n",
    "    model.addConstrs((full[k] <= full[k - 1] for k in range(2, num_full + 1)),'symmetry_full')\n",
    "    model.addConstrs((part[k] <= part[k - 1] for k in range(2, num_part + 1)),'symmetry_part')\n",
    "    \n",
    "    model.params.outputflag = 0\n",
    "    model.optimize()\n",
    "    x = model.getAttr(\"X\",assign_full)\n",
    "    y = model.getAttr(\"X\",assign_part)\n",
    "    c = model.objVal\n",
    "    return x, y, c"
   ]
  },
  {
   "cell_type": "code",
   "execution_count": 4,
   "metadata": {},
   "outputs": [],
   "source": [
    "def build_schedule(x, y):\n",
    "    schedule = {}\n",
    "    for day in days:\n",
    "        for hour in range(OT, CT):\n",
    "            num_people = 0\n",
    "            for shift in shifts:\n",
    "                if schedule_matrix[shift - 1, hour - 10]:\n",
    "                    for employee in ifull:\n",
    "                        if x[(employee, day, shift)] > 0.5:\n",
    "                            num_people += 1\n",
    "                        if y[(employee, day, shift)] > 0.5:\n",
    "                            num_people += 1\n",
    "            schedule[(day, hour)] = num_people\n",
    "    return schedule"
   ]
  },
  {
   "cell_type": "code",
   "execution_count": 5,
   "metadata": {},
   "outputs": [],
   "source": [
    "def service_availability(store_traffic, schedule):\n",
    "    num_samples = 100000\n",
    "    simulated_traffic = {hour:np.random.poisson(store_traffic[hour], num_samples)/schedule[hour] \n",
    "                         for hour in store_traffic}\n",
    "    simulated_traffic = np.array(list(simulated_traffic.values()))\n",
    "    sa_week = [np.sum(sample > 10) for sample in simulated_traffic.transpose()]\n",
    "    return np.ndarray.flatten(simulated_traffic), np.array(sa_week)"
   ]
  },
  {
   "cell_type": "markdown",
   "metadata": {},
   "source": [
    "## 1. Using the expected value"
   ]
  },
  {
   "cell_type": "code",
   "execution_count": 6,
   "metadata": {},
   "outputs": [],
   "source": [
    "#Number of workers required on day i (from 1 - Mon to 7 - Sun), at hour h (from 10 to 21).\n",
    "hreq = tupledict({\n",
    "    (1,10):3, (2,10):3, (3,10):3, (4,10):3, (5,10):3, (6,10):3, (7,10):3, \n",
    "    (1,11):5, (2,11):5, (3,11):5, (4,11):5, (5,11):5, (6,11):6, (7,11):6, \n",
    "    (1,12):7, (2,12):7, (3,12):7, (4,12):7, (5,12):7, (6,12):8, (7,12):8, \n",
    "    (1,13):7, (2,13):7, (3,13):7, (4,13):7, (5,13):7, (6,13):9, (7,13):10, \n",
    "    (1,14):7, (2,14):7, (3,14):7, (4,14):7, (5,14):7, (6,14):9, (7,14):10, \n",
    "    (1,15):7, (2,15):7, (3,15):7, (4,15):7, (5,15):7, (6,15):10, (7,15):10, \n",
    "    (1,16):7, (2,16):7, (3,16):8, (4,16):7, (5,16):8, (6,16):10, (7,16):11, \n",
    "    (1,17):7, (2,17):8, (3,17):8, (4,17):7, (5,17):8, (6,17):10, (7,17):11, \n",
    "    (1,18):7, (2,18):7, (3,18):7, (4,18):7, (5,18):7, (6,18):10, (7,18):10, \n",
    "    (1,19):7, (2,19):7, (3,19):7, (4,19):7, (5,19):7, (6,19):10, (7,19):10, \n",
    "    (1,20):7, (2,20):7, (3,20):7, (4,20):7, (5,20):7, (6,20):9, (7,20):9, \n",
    "    (1,21):7, (2,21):7, (3,21):7, (4,21):7, (5,21):7, (6,21):8, (7,21):8\n",
    "})\n",
    "\n",
    "num_full = 15 # maximum number of full-time staff\n",
    "num_part = 15 # maximum number of part-time staff"
   ]
  },
  {
   "cell_type": "code",
   "execution_count": 9,
   "metadata": {},
   "outputs": [],
   "source": [
    "store_traffic = {hour:hreq[hour]*10 for hour in hreq}"
   ]
  },
  {
   "cell_type": "code",
   "execution_count": 7,
   "metadata": {},
   "outputs": [],
   "source": [
    "#INDICES\n",
    "days = tuple(range(1, 8))                #Index for the day of the week; i = 1,...,7\n",
    "shifts = tuple(range(1, num_shifts + 1)) #Index for the detailed shift type; s = 1,...,n_DS\n",
    "hour = tuple(range(OT, CT))              #Index for the hourly time periods during a day; h = OT,...,CT\n",
    "ifull = tuple(range(1,num_full + 1))     #Index for full-time staff members; k = 1, . . . ,n_F\n",
    "ipart = tuple(range(1, num_part + 1))    #Index for part-time staff members; l = 1, . . . ,n_P\n",
    "\n",
    "dict_duration = {(employee, day, shift):duration_shift[shift - 1] \n",
    "             for employee in ifull for day in days for shift in shifts}\n",
    "dict_cost_full = {(employee, day, shift):duration_shift[shift - 1]*CostF\n",
    "                 for employee in ifull for day in days for shift in shifts}\n",
    "dict_cost_part = {(employee, day, shift):duration_shift[shift - 1]*CostP\n",
    "                 for employee in ifull for day in days for shift in shifts}"
   ]
  },
  {
   "cell_type": "code",
   "execution_count": 8,
   "metadata": {},
   "outputs": [
    {
     "name": "stdout",
     "output_type": "stream",
     "text": [
      "Academic license - for non-commercial use only\n",
      "Changed value of parameter timeLimit to 300.0\n",
      "   Prev: 1e+100  Min: 0.0  Max: 1e+100  Default: 1e+100\n"
     ]
    }
   ],
   "source": [
    "x, y, c1 = solve_model(hreq, num_full, num_part)\n",
    "schedule = build_schedule(x,y)"
   ]
  },
  {
   "cell_type": "code",
   "execution_count": 10,
   "metadata": {},
   "outputs": [],
   "source": [
    "sa_hour1, sa_week1 = service_availability(store_traffic, schedule)"
   ]
  },
  {
   "cell_type": "code",
   "execution_count": 11,
   "metadata": {},
   "outputs": [
    {
     "data": {
      "image/png": "[encoded data removed]",
      "text/plain": [
       "<Figure size 432x288 with 1 Axes>"
      ]
     },
     "metadata": {
      "needs_background": "light"
     },
     "output_type": "display_data"
    }
   ],
   "source": [
    "plt.hist(sa_hour1, density = True, bins = 50, alpha = 0.75)\n",
    "plt.vlines(10, 0, 0.4)\n",
    "plt.xlabel('Service availability')\n",
    "plt.ylabel('Frequency')\n",
    "plt.show()"
   ]
  },
  {
   "cell_type": "code",
   "execution_count": 12,
   "metadata": {
    "scrolled": true
   },
   "outputs": [
    {
     "data": {
      "image/png": "[encoded data removed]",
      "text/plain": [
       "<Figure size 432x288 with 1 Axes>"
      ]
     },
     "metadata": {
      "needs_background": "light"
     },
     "output_type": "display_data"
    }
   ],
   "source": [
    "plt.hist(sa_week1, density = True, bins = 50)\n",
    "plt.show()"
   ]
  },
  {
   "cell_type": "code",
   "execution_count": 13,
   "metadata": {},
   "outputs": [
    {
     "data": {
      "text/plain": [
       "0.4548445238095238"
      ]
     },
     "execution_count": 13,
     "metadata": {},
     "output_type": "execute_result"
    }
   ],
   "source": [
    "#Fraction of hours where I don't meet my target service level\n",
    "np.sum(sa_hour1 > 10)/len(sa_hour1)"
   ]
  },
  {
   "cell_type": "code",
   "execution_count": 14,
   "metadata": {},
   "outputs": [
    {
     "data": {
      "text/plain": [
       "1.0"
      ]
     },
     "execution_count": 14,
     "metadata": {},
     "output_type": "execute_result"
    }
   ],
   "source": [
    "#Fraction of weeks where I don't meet my target service level\n",
    "1 - np.sum(sa_week1 == 0)/len(sa_week1)"
   ]
  },
  {
   "cell_type": "markdown",
   "metadata": {},
   "source": [
    "## Using the quantile of the distribution"
   ]
  },
  {
   "cell_type": "code",
   "execution_count": 15,
   "metadata": {},
   "outputs": [],
   "source": [
    "#Number of workers required on day i (from 1 - Mon to 7 - Sun), at hour h (from 10 to 21).\n",
    "hreq = {hour:round(scp.poisson.ppf(0.95, store_traffic[hour])/10,0) for hour in hreq}\n",
    "\n",
    "num_full = 20 #Maximum number of full-time staff\n",
    "num_part = 20 #Maximum number of part-time staff"
   ]
  },
  {
   "cell_type": "code",
   "execution_count": 16,
   "metadata": {},
   "outputs": [],
   "source": [
    "#INDICES\n",
    "ifull = tuple(range(1,num_full + 1))     #Index for full-time staff members; k = 1, . . . ,n_F\n",
    "ipart = tuple(range(1, num_part + 1))    #Index for part-time staff members; l = 1, . . . ,n_P\n",
    "\n",
    "dict_duration = {(employee, day, shift):duration_shift[shift - 1] \n",
    "             for employee in ifull for day in days for shift in shifts}\n",
    "dict_cost_full = {(employee, day, shift):duration_shift[shift - 1]*CostF\n",
    "                 for employee in ifull for day in days for shift in shifts}\n",
    "dict_cost_part = {(employee, day, shift):duration_shift[shift - 1]*CostP\n",
    "                 for employee in ifull for day in days for shift in shifts}"
   ]
  },
  {
   "cell_type": "code",
   "execution_count": 17,
   "metadata": {},
   "outputs": [
    {
     "name": "stdout",
     "output_type": "stream",
     "text": [
      "Changed value of parameter timeLimit to 300.0\n",
      "   Prev: 1e+100  Min: 0.0  Max: 1e+100  Default: 1e+100\n"
     ]
    }
   ],
   "source": [
    "x, y, c2 = solve_model(hreq, num_full, num_part)\n",
    "schedule = build_schedule(x,y)"
   ]
  },
  {
   "cell_type": "code",
   "execution_count": 18,
   "metadata": {},
   "outputs": [],
   "source": [
    "sa_hour2, sa_week2 = service_availability(store_traffic, schedule)"
   ]
  },
  {
   "cell_type": "code",
   "execution_count": 19,
   "metadata": {
    "scrolled": true
   },
   "outputs": [
    {
     "data": {
      "image/png": "[encoded data removed]",
      "text/plain": [
       "<Figure size 432x288 with 1 Axes>"
      ]
     },
     "metadata": {
      "needs_background": "light"
     },
     "output_type": "display_data"
    }
   ],
   "source": [
    "plt.hist(sa_hour1, density = True, bins = 50, alpha = 0.75, label = 'Cost')\n",
    "plt.hist(sa_hour2, density = True, bins = 50, alpha = 0.75, label = 'Individual Constraint')\n",
    "plt.vlines(10, 0, 0.5)\n",
    "plt.xlabel('Target service availability')\n",
    "plt.ylabel('Frequency')\n",
    "plt.legend()\n",
    "plt.show()"
   ]
  },
  {
   "cell_type": "code",
   "execution_count": 20,
   "metadata": {
    "scrolled": true
   },
   "outputs": [
    {
     "data": {
      "image/png": "[encoded data removed]",
      "text/plain": [
       "<Figure size 432x288 with 1 Axes>"
      ]
     },
     "metadata": {
      "needs_background": "light"
     },
     "output_type": "display_data"
    }
   ],
   "source": [
    "plt.hist(sa_week2, density = True, bins = 50)\n",
    "plt.show()"
   ]
  },
  {
   "cell_type": "code",
   "execution_count": 21,
   "metadata": {},
   "outputs": [
    {
     "data": {
      "text/plain": [
       "0.06327976190476191"
      ]
     },
     "execution_count": 21,
     "metadata": {},
     "output_type": "execute_result"
    }
   ],
   "source": [
    "#Fraction of hours where I don't meet my target service level\n",
    "np.sum(sa_hour2 > 10)/len(sa_hour2)"
   ]
  },
  {
   "cell_type": "code",
   "execution_count": 22,
   "metadata": {},
   "outputs": [
    {
     "data": {
      "text/plain": [
       "0.9966"
      ]
     },
     "execution_count": 22,
     "metadata": {},
     "output_type": "execute_result"
    }
   ],
   "source": [
    "#Fraction of weeks where I don't meet my target service level\n",
    "1 - np.sum(sa_week2 == 0)/len(sa_week2)"
   ]
  },
  {
   "cell_type": "markdown",
   "metadata": {},
   "source": [
    "## Using the scenario approximation"
   ]
  },
  {
   "cell_type": "code",
   "execution_count": 23,
   "metadata": {},
   "outputs": [],
   "source": [
    "#Number of workers required on day i (from 1 - Mon to 7 - Sun), at hour h (from 10 to 21).\n",
    "hreq = {hour:np.ceil(np.max(np.random.poisson(store_traffic[hour],100000)/10)) for hour in hreq}\n",
    "\n",
    "num_full = 25 #Maximum number of full-time staff\n",
    "num_part = 25 #Maximum number of part-time staff"
   ]
  },
  {
   "cell_type": "code",
   "execution_count": 24,
   "metadata": {},
   "outputs": [],
   "source": [
    "#INDICES\n",
    "ifull = tuple(range(1,num_full + 1))     #Index for full-time staff members; k = 1, . . . ,n_F\n",
    "ipart = tuple(range(1, num_part + 1))    #Index for part-time staff members; l = 1, . . . ,n_P\n",
    "\n",
    "dict_duration = {(employee, day, shift):duration_shift[shift - 1] \n",
    "             for employee in ifull for day in days for shift in shifts}\n",
    "dict_cost_full = {(employee, day, shift):duration_shift[shift - 1]*CostF\n",
    "                 for employee in ifull for day in days for shift in shifts}\n",
    "dict_cost_part = {(employee, day, shift):duration_shift[shift - 1]*CostP\n",
    "                 for employee in ifull for day in days for shift in shifts}"
   ]
  },
  {
   "cell_type": "code",
   "execution_count": 25,
   "metadata": {},
   "outputs": [
    {
     "name": "stdout",
     "output_type": "stream",
     "text": [
      "Changed value of parameter timeLimit to 300.0\n",
      "   Prev: 1e+100  Min: 0.0  Max: 1e+100  Default: 1e+100\n"
     ]
    }
   ],
   "source": [
    "x, y, c3 = solve_model(hreq, num_full, num_part)\n",
    "schedule = build_schedule(x,y)"
   ]
  },
  {
   "cell_type": "code",
   "execution_count": 26,
   "metadata": {},
   "outputs": [],
   "source": [
    "sa_hour3, sa_week3 = service_availability(store_traffic, schedule)"
   ]
  },
  {
   "cell_type": "code",
   "execution_count": 27,
   "metadata": {},
   "outputs": [
    {
     "data": {
      "image/png": "[encoded data removed]",
      "text/plain": [
       "<Figure size 432x288 with 1 Axes>"
      ]
     },
     "metadata": {
      "needs_background": "light"
     },
     "output_type": "display_data"
    }
   ],
   "source": [
    "plt.hist(sa_hour1, density = True, bins = 50, alpha = 0.75, label = 'Cost')\n",
    "plt.hist(sa_hour2, density = True, bins = 50, alpha = 0.75, label = 'Individual Constraint')\n",
    "plt.hist(sa_hour3, density = True, bins = 50, alpha = 0.75, label = 'Joint Constraint')\n",
    "plt.vlines(10, 0, 0.5)\n",
    "plt.xlabel('Target service availability')\n",
    "plt.ylabel('Frequency')\n",
    "plt.legend()\n",
    "plt.show()"
   ]
  },
  {
   "cell_type": "code",
   "execution_count": 28,
   "metadata": {},
   "outputs": [
    {
     "data": {
      "image/png": "[encoded data removed]",
      "text/plain": [
       "<Figure size 432x288 with 1 Axes>"
      ]
     },
     "metadata": {
      "needs_background": "light"
     },
     "output_type": "display_data"
    }
   ],
   "source": [
    "plt.hist(sa_week3, density = True, bins = 50)\n",
    "plt.show()"
   ]
  },
  {
   "cell_type": "code",
   "execution_count": 29,
   "metadata": {},
   "outputs": [
    {
     "data": {
      "text/plain": [
       "3.2142857142857143e-06"
      ]
     },
     "execution_count": 29,
     "metadata": {},
     "output_type": "execute_result"
    }
   ],
   "source": [
    "#Fraction of hours where I don't meet my target service level\n",
    "np.sum(sa_hour3 > 10)/len(sa_hour3)"
   ]
  },
  {
   "cell_type": "code",
   "execution_count": 30,
   "metadata": {},
   "outputs": [
    {
     "data": {
      "text/plain": [
       "0.00026999999999999247"
      ]
     },
     "execution_count": 30,
     "metadata": {},
     "output_type": "execute_result"
    }
   ],
   "source": [
    "#Fraction of weeks where I don't meet my target service level\n",
    "1 - np.sum(sa_week3 == 0)/len(sa_week3)"
   ]
  },
  {
   "cell_type": "markdown",
   "metadata": {},
   "source": [
    "## Cost as function of service level"
   ]
  },
  {
   "cell_type": "code",
   "execution_count": 37,
   "metadata": {},
   "outputs": [],
   "source": [
    "num_full = 25 #Maximum number of full-time staff\n",
    "num_part = 25 #Maximum number of part-time staff\n",
    "\n",
    "#INDICES\n",
    "ifull = tuple(range(1,num_full + 1))     #Index for full-time staff members; k = 1, . . . ,n_F\n",
    "ipart = tuple(range(1, num_part + 1))    #Index for part-time staff members; l = 1, . . . ,n_P\n",
    "\n",
    "dict_duration = {(employee, day, shift):duration_shift[shift - 1] \n",
    "             for employee in ifull for day in days for shift in shifts}\n",
    "dict_cost_full = {(employee, day, shift):duration_shift[shift - 1]*CostF\n",
    "                 for employee in ifull for day in days for shift in shifts}\n",
    "dict_cost_part = {(employee, day, shift):duration_shift[shift - 1]*CostP\n",
    "                 for employee in ifull for day in days for shift in shifts}"
   ]
  },
  {
   "cell_type": "code",
   "execution_count": 38,
   "metadata": {},
   "outputs": [
    {
     "name": "stdout",
     "output_type": "stream",
     "text": [
      "percentile:  0.45\n",
      "Changed value of parameter timeLimit to 300.0\n",
      "   Prev: 1e+100  Min: 0.0  Max: 1e+100  Default: 1e+100\n",
      "percentile:  0.5\n",
      "Changed value of parameter timeLimit to 300.0\n",
      "   Prev: 1e+100  Min: 0.0  Max: 1e+100  Default: 1e+100\n",
      "percentile:  0.55\n",
      "Changed value of parameter timeLimit to 300.0\n",
      "   Prev: 1e+100  Min: 0.0  Max: 1e+100  Default: 1e+100\n",
      "percentile:  0.6\n",
      "Changed value of parameter timeLimit to 300.0\n",
      "   Prev: 1e+100  Min: 0.0  Max: 1e+100  Default: 1e+100\n",
      "percentile:  0.65\n",
      "Changed value of parameter timeLimit to 300.0\n",
      "   Prev: 1e+100  Min: 0.0  Max: 1e+100  Default: 1e+100\n",
      "percentile:  0.7\n",
      "Changed value of parameter timeLimit to 300.0\n",
      "   Prev: 1e+100  Min: 0.0  Max: 1e+100  Default: 1e+100\n",
      "percentile:  0.75\n",
      "Changed value of parameter timeLimit to 300.0\n",
      "   Prev: 1e+100  Min: 0.0  Max: 1e+100  Default: 1e+100\n",
      "percentile:  0.8\n",
      "Changed value of parameter timeLimit to 300.0\n",
      "   Prev: 1e+100  Min: 0.0  Max: 1e+100  Default: 1e+100\n",
      "percentile:  0.85\n",
      "Changed value of parameter timeLimit to 300.0\n",
      "   Prev: 1e+100  Min: 0.0  Max: 1e+100  Default: 1e+100\n",
      "percentile:  0.8999999999999999\n",
      "Changed value of parameter timeLimit to 300.0\n",
      "   Prev: 1e+100  Min: 0.0  Max: 1e+100  Default: 1e+100\n",
      "percentile:  0.95\n",
      "Changed value of parameter timeLimit to 300.0\n",
      "   Prev: 1e+100  Min: 0.0  Max: 1e+100  Default: 1e+100\n",
      "percentile:  0.99\n",
      "Changed value of parameter timeLimit to 300.0\n",
      "   Prev: 1e+100  Min: 0.0  Max: 1e+100  Default: 1e+100\n",
      "percentile:  0.995\n",
      "Changed value of parameter timeLimit to 300.0\n",
      "   Prev: 1e+100  Min: 0.0  Max: 1e+100  Default: 1e+100\n"
     ]
    }
   ],
   "source": [
    "probs = np.insert(np.linspace(0.45, 0.95, 11), 11, [0.99, 0.995])\n",
    "cost_ind = []\n",
    "for quantile in probs:  \n",
    "    print('percentile: ', quantile)\n",
    "    #Number of workers required on day i (from 1 - Mon to 7 - Sun), at hour h (from 10 to 21).\n",
    "    hreq = {hour:round(scp.poisson.ppf(quantile, store_traffic[hour])/10,0) for hour in hreq}\n",
    "    x, y, c = solve_model(hreq, num_full, num_part)\n",
    "    cost_ind.append(c)"
   ]
  },
  {
   "cell_type": "code",
   "execution_count": 39,
   "metadata": {},
   "outputs": [
    {
     "name": "stdout",
     "output_type": "stream",
     "text": [
      "percentile:  0.45\n",
      "Changed value of parameter timeLimit to 300.0\n",
      "   Prev: 1e+100  Min: 0.0  Max: 1e+100  Default: 1e+100\n",
      "percentile:  0.5\n",
      "Changed value of parameter timeLimit to 300.0\n",
      "   Prev: 1e+100  Min: 0.0  Max: 1e+100  Default: 1e+100\n",
      "percentile:  0.55\n",
      "Changed value of parameter timeLimit to 300.0\n",
      "   Prev: 1e+100  Min: 0.0  Max: 1e+100  Default: 1e+100\n",
      "percentile:  0.6\n",
      "Changed value of parameter timeLimit to 300.0\n",
      "   Prev: 1e+100  Min: 0.0  Max: 1e+100  Default: 1e+100\n",
      "percentile:  0.65\n",
      "Changed value of parameter timeLimit to 300.0\n",
      "   Prev: 1e+100  Min: 0.0  Max: 1e+100  Default: 1e+100\n",
      "percentile:  0.7\n",
      "Changed value of parameter timeLimit to 300.0\n",
      "   Prev: 1e+100  Min: 0.0  Max: 1e+100  Default: 1e+100\n",
      "percentile:  0.75\n",
      "Changed value of parameter timeLimit to 300.0\n",
      "   Prev: 1e+100  Min: 0.0  Max: 1e+100  Default: 1e+100\n",
      "percentile:  0.8\n",
      "Changed value of parameter timeLimit to 300.0\n",
      "   Prev: 1e+100  Min: 0.0  Max: 1e+100  Default: 1e+100\n",
      "percentile:  0.85\n",
      "Changed value of parameter timeLimit to 300.0\n",
      "   Prev: 1e+100  Min: 0.0  Max: 1e+100  Default: 1e+100\n",
      "percentile:  0.8999999999999999\n",
      "Changed value of parameter timeLimit to 300.0\n",
      "   Prev: 1e+100  Min: 0.0  Max: 1e+100  Default: 1e+100\n",
      "percentile:  0.95\n",
      "Changed value of parameter timeLimit to 300.0\n",
      "   Prev: 1e+100  Min: 0.0  Max: 1e+100  Default: 1e+100\n",
      "percentile:  0.99\n",
      "Changed value of parameter timeLimit to 300.0\n",
      "   Prev: 1e+100  Min: 0.0  Max: 1e+100  Default: 1e+100\n",
      "percentile:  0.995\n",
      "Changed value of parameter timeLimit to 300.0\n",
      "   Prev: 1e+100  Min: 0.0  Max: 1e+100  Default: 1e+100\n"
     ]
    }
   ],
   "source": [
    "#Using the scenario approximation\n",
    "delta = 0.05\n",
    "n = 500\n",
    "cost_joint = []\n",
    "for quantile in probs:  \n",
    "    print('percentile: ', quantile)\n",
    "    epsilon = 1 - quantile\n",
    "    N = int(round(2/epsilon*np.log(1/delta) + 2*n + 2*n/epsilon*np.log(2/epsilon),0))\n",
    "    \n",
    "    #Number of workers required on day i (from 1 - Mon to 7 - Sun), at hour h (from 10 to 21).\n",
    "    hreq = {hour:np.max(np.random.poisson(store_traffic[hour],N))/10 for hour in hreq}\n",
    "    \n",
    "    x, y, c = solve_model(hreq, num_full, num_part)\n",
    "    cost_joint.append(c)"
   ]
  },
  {
   "cell_type": "code",
   "execution_count": 40,
   "metadata": {},
   "outputs": [
    {
     "data": {
      "image/png": "[encoded data removed]",
      "text/plain": [
       "<Figure size 432x288 with 1 Axes>"
      ]
     },
     "metadata": {
      "needs_background": "light"
     },
     "output_type": "display_data"
    }
   ],
   "source": [
    "plt.plot(1 - probs, np.array(cost_ind)/1000, label = 'Individual')\n",
    "plt.plot(1 - probs, np.array(cost_joint)/1000, label = 'Joint')\n",
    "plt.xlabel('Probability of not meeting the target')\n",
    "plt.ylabel('Total labor cost (1000 USD)')\n",
    "plt.legend()\n",
    "plt.plot([0.05],cost_ind[-3]/1000,'ro')\n",
    "plt.plot([0.05],cost_joint[-3]/1000,'ro')\n",
    "plt.show()"
   ]
  }
 ],
 "metadata": {
  "kernelspec": {
   "display_name": "Python 3",
   "language": "python",
   "name": "python3"
  },
  "language_info": {
   "codemirror_mode": {
    "name": "ipython",
    "version": 3
   },
   "file_extension": ".py",
   "mimetype": "text/x-python",
   "name": "python",
   "nbconvert_exporter": "python",
   "pygments_lexer": "ipython3",
   "version": "3.7.1"
  }
 },
 "nbformat": 4,
 "nbformat_minor": 2
}
